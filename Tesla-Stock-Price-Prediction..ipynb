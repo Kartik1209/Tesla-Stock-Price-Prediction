{
 "cells": [
  {
   "cell_type": "code",
   "execution_count": 52,
   "metadata": {},
   "outputs": [],
   "source": [
    "import pandas as pd\n",
    "import numpy as np\n",
    "import matplotlib.pyplot as plt\n",
    "import sklearn\n",
    "import math"
   ]
  },
  {
   "cell_type": "code",
   "execution_count": 2,
   "metadata": {},
   "outputs": [],
   "source": [
    "df = pd.read_csv(\"D:\\datasets\\TSLA.csv\")"
   ]
  },
  {
   "cell_type": "code",
   "execution_count": 3,
   "metadata": {},
   "outputs": [
    {
     "name": "stdout",
     "output_type": "stream",
     "text": [
      "<class 'pandas.core.frame.DataFrame'>\n",
      "RangeIndex: 1258 entries, 0 to 1257\n",
      "Data columns (total 7 columns):\n",
      "Date         1258 non-null object\n",
      "Open         1258 non-null float64\n",
      "High         1258 non-null float64\n",
      "Low          1258 non-null float64\n",
      "Close        1258 non-null float64\n",
      "Adj Close    1258 non-null float64\n",
      "Volume       1258 non-null int64\n",
      "dtypes: float64(5), int64(1), object(1)\n",
      "memory usage: 68.9+ KB\n"
     ]
    }
   ],
   "source": [
    "df.info()"
   ]
  },
  {
   "cell_type": "code",
   "execution_count": 4,
   "metadata": {},
   "outputs": [
    {
     "data": {
      "text/plain": [
       "Date         0\n",
       "Open         0\n",
       "High         0\n",
       "Low          0\n",
       "Close        0\n",
       "Adj Close    0\n",
       "Volume       0\n",
       "dtype: int64"
      ]
     },
     "execution_count": 4,
     "metadata": {},
     "output_type": "execute_result"
    }
   ],
   "source": [
    "df.isna().sum()"
   ]
  },
  {
   "cell_type": "code",
   "execution_count": 5,
   "metadata": {},
   "outputs": [
    {
     "data": {
      "text/html": [
       "<div>\n",
       "<style scoped>\n",
       "    .dataframe tbody tr th:only-of-type {\n",
       "        vertical-align: middle;\n",
       "    }\n",
       "\n",
       "    .dataframe tbody tr th {\n",
       "        vertical-align: top;\n",
       "    }\n",
       "\n",
       "    .dataframe thead th {\n",
       "        text-align: right;\n",
       "    }\n",
       "</style>\n",
       "<table border=\"1\" class=\"dataframe\">\n",
       "  <thead>\n",
       "    <tr style=\"text-align: right;\">\n",
       "      <th></th>\n",
       "      <th>Date</th>\n",
       "      <th>Open</th>\n",
       "      <th>High</th>\n",
       "      <th>Low</th>\n",
       "      <th>Close</th>\n",
       "      <th>Adj Close</th>\n",
       "      <th>Volume</th>\n",
       "    </tr>\n",
       "  </thead>\n",
       "  <tbody>\n",
       "    <tr>\n",
       "      <td>0</td>\n",
       "      <td>2016-08-16</td>\n",
       "      <td>45.098000</td>\n",
       "      <td>45.438000</td>\n",
       "      <td>44.681999</td>\n",
       "      <td>44.722000</td>\n",
       "      <td>44.722000</td>\n",
       "      <td>11335500</td>\n",
       "    </tr>\n",
       "    <tr>\n",
       "      <td>1</td>\n",
       "      <td>2016-08-17</td>\n",
       "      <td>44.866001</td>\n",
       "      <td>44.966000</td>\n",
       "      <td>44.560001</td>\n",
       "      <td>44.647999</td>\n",
       "      <td>44.647999</td>\n",
       "      <td>8935500</td>\n",
       "    </tr>\n",
       "    <tr>\n",
       "      <td>2</td>\n",
       "      <td>2016-08-18</td>\n",
       "      <td>44.764000</td>\n",
       "      <td>45.132000</td>\n",
       "      <td>44.458000</td>\n",
       "      <td>44.702000</td>\n",
       "      <td>44.702000</td>\n",
       "      <td>8572500</td>\n",
       "    </tr>\n",
       "    <tr>\n",
       "      <td>3</td>\n",
       "      <td>2016-08-19</td>\n",
       "      <td>44.708000</td>\n",
       "      <td>45.034000</td>\n",
       "      <td>44.506001</td>\n",
       "      <td>45.000000</td>\n",
       "      <td>45.000000</td>\n",
       "      <td>8297500</td>\n",
       "    </tr>\n",
       "    <tr>\n",
       "      <td>4</td>\n",
       "      <td>2016-08-22</td>\n",
       "      <td>44.834000</td>\n",
       "      <td>45.021999</td>\n",
       "      <td>44.535999</td>\n",
       "      <td>44.585999</td>\n",
       "      <td>44.585999</td>\n",
       "      <td>10327500</td>\n",
       "    </tr>\n",
       "  </tbody>\n",
       "</table>\n",
       "</div>"
      ],
      "text/plain": [
       "         Date       Open       High        Low      Close  Adj Close    Volume\n",
       "0  2016-08-16  45.098000  45.438000  44.681999  44.722000  44.722000  11335500\n",
       "1  2016-08-17  44.866001  44.966000  44.560001  44.647999  44.647999   8935500\n",
       "2  2016-08-18  44.764000  45.132000  44.458000  44.702000  44.702000   8572500\n",
       "3  2016-08-19  44.708000  45.034000  44.506001  45.000000  45.000000   8297500\n",
       "4  2016-08-22  44.834000  45.021999  44.535999  44.585999  44.585999  10327500"
      ]
     },
     "execution_count": 5,
     "metadata": {},
     "output_type": "execute_result"
    }
   ],
   "source": [
    "df.head()"
   ]
  },
  {
   "cell_type": "code",
   "execution_count": 6,
   "metadata": {},
   "outputs": [
    {
     "data": {
      "text/plain": [
       "<matplotlib.collections.PathCollection at 0x25d30aa8908>"
      ]
     },
     "execution_count": 6,
     "metadata": {},
     "output_type": "execute_result"
    },
    {
     "data": {
      "image/png": "[encoded data removed]",
      "text/plain": [
       "<Figure size 432x288 with 1 Axes>"
      ]
     },
     "metadata": {
      "needs_background": "light"
     },
     "output_type": "display_data"
    }
   ],
   "source": [
    "fig, ax = plt.subplots()\n",
    "ax.scatter(df[\"Date\"][:1000], df[\"Close\"][:1000])"
   ]
  },
  {
   "cell_type": "code",
   "execution_count": 7,
   "metadata": {},
   "outputs": [
    {
     "data": {
      "text/plain": [
       "0      2016-08-16\n",
       "1      2016-08-17\n",
       "2      2016-08-18\n",
       "3      2016-08-19\n",
       "4      2016-08-22\n",
       "          ...    \n",
       "995    2020-07-30\n",
       "996    2020-07-31\n",
       "997    2020-08-03\n",
       "998    2020-08-04\n",
       "999    2020-08-05\n",
       "Name: Date, Length: 1000, dtype: object"
      ]
     },
     "execution_count": 7,
     "metadata": {},
     "output_type": "execute_result"
    }
   ],
   "source": [
    "df.Date[:1000]"
   ]
  },
  {
   "cell_type": "code",
   "execution_count": 8,
   "metadata": {},
   "outputs": [
    {
     "data": {
      "text/plain": [
       "<matplotlib.axes._subplots.AxesSubplot at 0x25d32b68cc8>"
      ]
     },
     "execution_count": 8,
     "metadata": {},
     "output_type": "execute_result"
    },
    {
     "data": {
      "image/png": "[encoded data removed]",
      "text/plain": [
       "<Figure size 432x288 with 1 Axes>"
      ]
     },
     "metadata": {
      "needs_background": "light"
     },
     "output_type": "display_data"
    }
   ],
   "source": [
    "df.Close.plot.hist()"
   ]
  },
  {
   "cell_type": "code",
   "execution_count": 9,
   "metadata": {},
   "outputs": [
    {
     "data": {
      "text/html": [
       "<div>\n",
       "<style scoped>\n",
       "    .dataframe tbody tr th:only-of-type {\n",
       "        vertical-align: middle;\n",
       "    }\n",
       "\n",
       "    .dataframe tbody tr th {\n",
       "        vertical-align: top;\n",
       "    }\n",
       "\n",
       "    .dataframe thead th {\n",
       "        text-align: right;\n",
       "    }\n",
       "</style>\n",
       "<table border=\"1\" class=\"dataframe\">\n",
       "  <thead>\n",
       "    <tr style=\"text-align: right;\">\n",
       "      <th></th>\n",
       "      <th>0</th>\n",
       "      <th>1</th>\n",
       "      <th>2</th>\n",
       "      <th>3</th>\n",
       "      <th>4</th>\n",
       "    </tr>\n",
       "  </thead>\n",
       "  <tbody>\n",
       "    <tr>\n",
       "      <td>Date</td>\n",
       "      <td>2016-08-16</td>\n",
       "      <td>2016-08-17</td>\n",
       "      <td>2016-08-18</td>\n",
       "      <td>2016-08-19</td>\n",
       "      <td>2016-08-22</td>\n",
       "    </tr>\n",
       "    <tr>\n",
       "      <td>Open</td>\n",
       "      <td>45.098</td>\n",
       "      <td>44.866</td>\n",
       "      <td>44.764</td>\n",
       "      <td>44.708</td>\n",
       "      <td>44.834</td>\n",
       "    </tr>\n",
       "    <tr>\n",
       "      <td>High</td>\n",
       "      <td>45.438</td>\n",
       "      <td>44.966</td>\n",
       "      <td>45.132</td>\n",
       "      <td>45.034</td>\n",
       "      <td>45.022</td>\n",
       "    </tr>\n",
       "    <tr>\n",
       "      <td>Low</td>\n",
       "      <td>44.682</td>\n",
       "      <td>44.56</td>\n",
       "      <td>44.458</td>\n",
       "      <td>44.506</td>\n",
       "      <td>44.536</td>\n",
       "    </tr>\n",
       "    <tr>\n",
       "      <td>Close</td>\n",
       "      <td>44.722</td>\n",
       "      <td>44.648</td>\n",
       "      <td>44.702</td>\n",
       "      <td>45</td>\n",
       "      <td>44.586</td>\n",
       "    </tr>\n",
       "    <tr>\n",
       "      <td>Adj Close</td>\n",
       "      <td>44.722</td>\n",
       "      <td>44.648</td>\n",
       "      <td>44.702</td>\n",
       "      <td>45</td>\n",
       "      <td>44.586</td>\n",
       "    </tr>\n",
       "    <tr>\n",
       "      <td>Volume</td>\n",
       "      <td>11335500</td>\n",
       "      <td>8935500</td>\n",
       "      <td>8572500</td>\n",
       "      <td>8297500</td>\n",
       "      <td>10327500</td>\n",
       "    </tr>\n",
       "  </tbody>\n",
       "</table>\n",
       "</div>"
      ],
      "text/plain": [
       "                    0           1           2           3           4\n",
       "Date       2016-08-16  2016-08-17  2016-08-18  2016-08-19  2016-08-22\n",
       "Open           45.098      44.866      44.764      44.708      44.834\n",
       "High           45.438      44.966      45.132      45.034      45.022\n",
       "Low            44.682       44.56      44.458      44.506      44.536\n",
       "Close          44.722      44.648      44.702          45      44.586\n",
       "Adj Close      44.722      44.648      44.702          45      44.586\n",
       "Volume       11335500     8935500     8572500     8297500    10327500"
      ]
     },
     "execution_count": 9,
     "metadata": {},
     "output_type": "execute_result"
    }
   ],
   "source": [
    "df.head().T"
   ]
  },
  {
   "cell_type": "code",
   "execution_count": 10,
   "metadata": {},
   "outputs": [
    {
     "data": {
      "text/plain": [
       "dtype('O')"
      ]
     },
     "execution_count": 10,
     "metadata": {},
     "output_type": "execute_result"
    }
   ],
   "source": [
    "df.Date.dtype"
   ]
  },
  {
   "cell_type": "code",
   "execution_count": 11,
   "metadata": {},
   "outputs": [],
   "source": [
    "df = pd.read_csv(\"D:\\datasets\\TSLA.csv\",\n",
    "                low_memory=False,\n",
    "                parse_dates=[\"Date\"])"
   ]
  },
  {
   "cell_type": "code",
   "execution_count": 12,
   "metadata": {},
   "outputs": [
    {
     "name": "stdout",
     "output_type": "stream",
     "text": [
      "      saleYear  saleMonth  saleDay\n",
      "0         2016          8       16\n",
      "1         2016          8       17\n",
      "2         2016          8       18\n",
      "3         2016          8       19\n",
      "4         2016          8       22\n",
      "...        ...        ...      ...\n",
      "1253      2021          8        9\n",
      "1254      2021          8       10\n",
      "1255      2021          8       11\n",
      "1256      2021          8       12\n",
      "1257      2021          8       13\n",
      "\n",
      "[1258 rows x 3 columns]\n"
     ]
    }
   ],
   "source": [
    "df[\"saleYear\"] = df.Date.dt.year\n",
    "df[\"saleMonth\"] = df.Date.dt.month\n",
    "df[\"saleDay\"] = df.Date.dt.day\n",
    "print(df[[\"saleYear\",\"saleMonth\",\"saleDay\"]])"
   ]
  },
  {
   "cell_type": "code",
   "execution_count": 13,
   "metadata": {},
   "outputs": [
    {
     "data": {
      "text/html": [
       "<div>\n",
       "<style scoped>\n",
       "    .dataframe tbody tr th:only-of-type {\n",
       "        vertical-align: middle;\n",
       "    }\n",
       "\n",
       "    .dataframe tbody tr th {\n",
       "        vertical-align: top;\n",
       "    }\n",
       "\n",
       "    .dataframe thead th {\n",
       "        text-align: right;\n",
       "    }\n",
       "</style>\n",
       "<table border=\"1\" class=\"dataframe\">\n",
       "  <thead>\n",
       "    <tr style=\"text-align: right;\">\n",
       "      <th></th>\n",
       "      <th>Date</th>\n",
       "      <th>Open</th>\n",
       "      <th>High</th>\n",
       "      <th>Low</th>\n",
       "      <th>Close</th>\n",
       "      <th>Adj Close</th>\n",
       "      <th>Volume</th>\n",
       "      <th>saleYear</th>\n",
       "      <th>saleMonth</th>\n",
       "      <th>saleDay</th>\n",
       "    </tr>\n",
       "  </thead>\n",
       "  <tbody>\n",
       "    <tr>\n",
       "      <td>0</td>\n",
       "      <td>2016-08-16</td>\n",
       "      <td>45.098000</td>\n",
       "      <td>45.438000</td>\n",
       "      <td>44.681999</td>\n",
       "      <td>44.722000</td>\n",
       "      <td>44.722000</td>\n",
       "      <td>11335500</td>\n",
       "      <td>2016</td>\n",
       "      <td>8</td>\n",
       "      <td>16</td>\n",
       "    </tr>\n",
       "    <tr>\n",
       "      <td>1</td>\n",
       "      <td>2016-08-17</td>\n",
       "      <td>44.866001</td>\n",
       "      <td>44.966000</td>\n",
       "      <td>44.560001</td>\n",
       "      <td>44.647999</td>\n",
       "      <td>44.647999</td>\n",
       "      <td>8935500</td>\n",
       "      <td>2016</td>\n",
       "      <td>8</td>\n",
       "      <td>17</td>\n",
       "    </tr>\n",
       "    <tr>\n",
       "      <td>2</td>\n",
       "      <td>2016-08-18</td>\n",
       "      <td>44.764000</td>\n",
       "      <td>45.132000</td>\n",
       "      <td>44.458000</td>\n",
       "      <td>44.702000</td>\n",
       "      <td>44.702000</td>\n",
       "      <td>8572500</td>\n",
       "      <td>2016</td>\n",
       "      <td>8</td>\n",
       "      <td>18</td>\n",
       "    </tr>\n",
       "    <tr>\n",
       "      <td>3</td>\n",
       "      <td>2016-08-19</td>\n",
       "      <td>44.708000</td>\n",
       "      <td>45.034000</td>\n",
       "      <td>44.506001</td>\n",
       "      <td>45.000000</td>\n",
       "      <td>45.000000</td>\n",
       "      <td>8297500</td>\n",
       "      <td>2016</td>\n",
       "      <td>8</td>\n",
       "      <td>19</td>\n",
       "    </tr>\n",
       "    <tr>\n",
       "      <td>4</td>\n",
       "      <td>2016-08-22</td>\n",
       "      <td>44.834000</td>\n",
       "      <td>45.021999</td>\n",
       "      <td>44.535999</td>\n",
       "      <td>44.585999</td>\n",
       "      <td>44.585999</td>\n",
       "      <td>10327500</td>\n",
       "      <td>2016</td>\n",
       "      <td>8</td>\n",
       "      <td>22</td>\n",
       "    </tr>\n",
       "  </tbody>\n",
       "</table>\n",
       "</div>"
      ],
      "text/plain": [
       "        Date       Open       High        Low      Close  Adj Close    Volume  \\\n",
       "0 2016-08-16  45.098000  45.438000  44.681999  44.722000  44.722000  11335500   \n",
       "1 2016-08-17  44.866001  44.966000  44.560001  44.647999  44.647999   8935500   \n",
       "2 2016-08-18  44.764000  45.132000  44.458000  44.702000  44.702000   8572500   \n",
       "3 2016-08-19  44.708000  45.034000  44.506001  45.000000  45.000000   8297500   \n",
       "4 2016-08-22  44.834000  45.021999  44.535999  44.585999  44.585999  10327500   \n",
       "\n",
       "   saleYear  saleMonth  saleDay  \n",
       "0      2016          8       16  \n",
       "1      2016          8       17  \n",
       "2      2016          8       18  \n",
       "3      2016          8       19  \n",
       "4      2016          8       22  "
      ]
     },
     "execution_count": 13,
     "metadata": {},
     "output_type": "execute_result"
    }
   ],
   "source": [
    "df.head()"
   ]
  },
  {
   "cell_type": "markdown",
   "metadata": {},
   "source": [
    "### Split the data into training, validation and testing sets"
   ]
  },
  {
   "cell_type": "code",
   "execution_count": 14,
   "metadata": {},
   "outputs": [
    {
     "data": {
      "text/plain": [
       "((1258, 4), (1258,))"
      ]
     },
     "execution_count": 14,
     "metadata": {},
     "output_type": "execute_result"
    }
   ],
   "source": [
    "x = df[[\"saleDay\",\"saleYear\",\"saleMonth\",\"Open\"]]\n",
    "y = df[\"Close\"]\n",
    "x.shape, y.shape"
   ]
  },
  {
   "cell_type": "code",
   "execution_count": 15,
   "metadata": {},
   "outputs": [],
   "source": [
    "from sklearn.model_selection import train_test_split\n",
    "x_train,x_test,y_train,y_test = train_test_split(x,y,test_size=0.2,random_state=42)\n"
   ]
  },
  {
   "cell_type": "code",
   "execution_count": 16,
   "metadata": {},
   "outputs": [
    {
     "data": {
      "text/plain": [
       "((1006, 4), (1006,), (252, 4), (252,))"
      ]
     },
     "execution_count": 16,
     "metadata": {},
     "output_type": "execute_result"
    }
   ],
   "source": [
    "x_train.shape, y_train.shape, x_test.shape, y_test.shape"
   ]
  },
  {
   "cell_type": "code",
   "execution_count": 17,
   "metadata": {},
   "outputs": [],
   "source": [
    "x_Train, x_val, y_Train, y_val = train_test_split(x_train,y_train,\n",
    "                                                     test_size=0.15)"
   ]
  },
  {
   "cell_type": "markdown",
   "metadata": {},
   "source": [
    "### Support Vector Machine."
   ]
  },
  {
   "cell_type": "code",
   "execution_count": 18,
   "metadata": {},
   "outputs": [],
   "source": [
    "from sklearn.svm import SVR"
   ]
  },
  {
   "cell_type": "code",
   "execution_count": 19,
   "metadata": {},
   "outputs": [
    {
     "data": {
      "text/plain": [
       "SVR(C=1.0, cache_size=200, coef0=0.0, degree=3, epsilon=0.1,\n",
       "    gamma='auto_deprecated', kernel='linear', max_iter=-1, shrinking=True,\n",
       "    tol=0.001, verbose=False)"
      ]
     },
     "execution_count": 19,
     "metadata": {},
     "output_type": "execute_result"
    }
   ],
   "source": [
    "svr_linear = SVR(kernel=\"linear\")\n",
    "svr_linear.fit(x_Train,y_Train)"
   ]
  },
  {
   "cell_type": "code",
   "execution_count": 55,
   "metadata": {},
   "outputs": [
    {
     "data": {
      "text/plain": [
       "0.9982904249962182"
      ]
     },
     "execution_count": 55,
     "metadata": {},
     "output_type": "execute_result"
    }
   ],
   "source": [
    "svr_linear_score = svr_linear.score(x_Train,y_Train)\n",
    "svr_linear_score"
   ]
  },
  {
   "cell_type": "code",
   "execution_count": 21,
   "metadata": {},
   "outputs": [
    {
     "data": {
      "text/plain": [
       "0.9984749337734938"
      ]
     },
     "execution_count": 21,
     "metadata": {},
     "output_type": "execute_result"
    }
   ],
   "source": [
    "svr_linear.score(x_val,y_val)"
   ]
  },
  {
   "cell_type": "code",
   "execution_count": 22,
   "metadata": {},
   "outputs": [],
   "source": [
    "y_preds = svr_linear.predict(x_test)"
   ]
  },
  {
   "cell_type": "code",
   "execution_count": 23,
   "metadata": {},
   "outputs": [
    {
     "data": {
      "text/plain": [
       "array([ 68.26672878,  46.14143064,  42.68021185,  38.23673908,\n",
       "       447.27062121,  56.7359609 ,  49.36777167, 429.11594169,\n",
       "       685.52755762, 414.75502332,  60.88678024, 453.27766725,\n",
       "        67.33471452,  61.84559446, 429.73547922,  67.29644452,\n",
       "       588.70299869,  45.67797398,  65.46385547, 280.25108546,\n",
       "       254.68129197,  60.00035845,  73.22528613,  44.0308592 ,\n",
       "       422.59139941,  47.99869218,  63.07645187,  70.93954162,\n",
       "        54.13972657,  39.92912487, 449.1710078 ,  61.77531201,\n",
       "       791.9469268 ,  87.45919374,  56.78046605,  65.00565178,\n",
       "        60.4893153 ,  71.51747099,  71.49969688,  63.31490315,\n",
       "       611.25413095,  60.46478402, 162.38953626,  53.75695795,\n",
       "        69.51079886, 108.56799431,  73.19196371,  41.81066872,\n",
       "        61.38928164,  82.59622081,  55.33946913,  70.74267373,\n",
       "        71.11701377, 147.58309357,  65.45588403,  69.70107595,\n",
       "        76.23431411,  62.25372697, 599.42939971,  62.66264659,\n",
       "        59.20952433,  67.03725265,  58.39378821,  38.94001207,\n",
       "        39.4193157 , 644.02070953, 826.65181056,  37.90278629,\n",
       "        53.91472119,  41.01726942,  99.53036963,  37.41552736,\n",
       "        63.68041537, 852.77099848,  68.91233092, 834.52363277,\n",
       "        46.50413514,  70.7112116 ,  59.73795249, 644.75834175,\n",
       "        63.50975248,  62.97719201,  59.70888608,  61.95512586,\n",
       "       163.44228581, 851.60852666, 168.82754814,  67.16007267,\n",
       "       199.05400787, 661.11413624,  52.35014793, 404.00921172,\n",
       "        59.53680323, 477.80095383,  39.70807377,  55.35847009,\n",
       "        64.20955859,  42.26091597,  41.43407951,  75.17935378,\n",
       "       371.91165857,  58.80226918, 153.77686279,  40.3090113 ,\n",
       "        59.52866811,  49.5910049 , 302.84926758,  48.63584856,\n",
       "       577.84146018,  67.91796923,  51.52116681,  60.03648556,\n",
       "        52.89332908, 811.34892619,  63.60157657,  53.30233396,\n",
       "        59.80607393, 565.95106398,  70.84413078, 105.24397702,\n",
       "        38.66926791, 297.89105463, 866.88847676,  49.83890864,\n",
       "       849.49291887,  65.81653805,  70.99293634,  63.98530785,\n",
       "        68.64131032, 767.94048857, 697.91981976,  61.02883375,\n",
       "        49.09363351, 198.09340212, 289.181387  ,  47.76172935,\n",
       "        74.34065121,  56.42719867,  62.46085549,  48.74092884,\n",
       "       200.50473817,  43.13801656, 676.66241967, 378.6970379 ,\n",
       "        60.39808724, 605.30284471, 715.72764827,  68.49788401,\n",
       "       299.17137644,  71.12925525,  67.23292648,  40.36489393,\n",
       "        49.34113534,  56.55534391,  38.54334038,  48.77554895,\n",
       "        83.8981325 ,  62.82633417,  71.4259902 , 738.75858183,\n",
       "        70.71308923,  44.60474898,  66.47158221,  60.36583634,\n",
       "        55.14462308,  53.48470796, 667.50902444,  70.34538857,\n",
       "       422.82606608,  66.36869946, 713.83790367,  44.49930315,\n",
       "        57.99956996,  52.14723266,  46.62604649, 175.80195075,\n",
       "        62.99624488,  74.51221608,  64.31799413,  61.14408827,\n",
       "        67.66294484,  71.58259493,  53.02805812,  61.95735983,\n",
       "        52.89535506, 548.57758077,  60.56781614,  44.72763407,\n",
       "        94.82439031,  75.59485888,  49.6140059 ,  51.79484274,\n",
       "        68.25731635,  57.94524608,  48.01468325,  43.4370045 ,\n",
       "        52.61691934, 139.77695579, 434.71799596,  47.70081705,\n",
       "       814.90047505, 625.80239099,  74.30568168,  43.77899303,\n",
       "        63.643219  ,  69.76751485,  51.07894413,  86.1229108 ,\n",
       "        41.03791448,  66.66338879,  72.61373775, 170.17752333,\n",
       "        51.68867567,  50.81539642,  67.06296498,  51.88124411,\n",
       "        62.38560221,  67.37388117,  45.79256354,  76.43547698,\n",
       "        67.85020434,  57.40076374,  49.31587051,  68.96061369,\n",
       "       201.7077192 ,  60.41179347, 669.23484805, 617.48033271,\n",
       "       294.54582533,  56.30170379,  37.15076044,  66.54697651,\n",
       "        43.14864064,  63.62684002, 195.39769419, 648.73474724,\n",
       "       371.04073762,  42.79296723,  64.32409326,  71.09642657,\n",
       "        72.44310105,  61.76786218, 157.48088826, 687.88310649,\n",
       "        74.26111672,  71.7259837 ,  40.74856242,  55.28891973,\n",
       "        53.768747  ,  64.29259039,  69.37792617,  67.74422712])"
      ]
     },
     "execution_count": 23,
     "metadata": {},
     "output_type": "execute_result"
    }
   ],
   "source": [
    "y_preds"
   ]
  },
  {
   "cell_type": "code",
   "execution_count": 24,
   "metadata": {},
   "outputs": [
    {
     "data": {
      "text/plain": [
       "561      68.211998\n",
       "101      45.973999\n",
       "51       40.801998\n",
       "63       36.290001\n",
       "1073    486.640015\n",
       "           ...    \n",
       "156      55.584000\n",
       "549      52.000000\n",
       "398      64.269997\n",
       "243      69.417999\n",
       "834      67.905998\n",
       "Name: Close, Length: 252, dtype: float64"
      ]
     },
     "execution_count": 24,
     "metadata": {},
     "output_type": "execute_result"
    }
   ],
   "source": [
    "y_test"
   ]
  },
  {
   "cell_type": "code",
   "execution_count": 39,
   "metadata": {},
   "outputs": [
    {
     "data": {
      "image/png": "[encoded data removed]",
      "text/plain": [
       "<Figure size 720x720 with 1 Axes>"
      ]
     },
     "metadata": {
      "needs_background": "light"
     },
     "output_type": "display_data"
    }
   ],
   "source": [
    "plt.figure(figsize=(10,10))\n",
    "plt.scatter(y_test, y_preds, c = \"crimson\")\n",
    "plt.xlabel(\"True Values\")\n",
    "plt.ylabel(\"Predicted Values\")\n",
    "plt.xticks(np.arange(50,1000,50))\n",
    "plt.ylabel(\"Predicted Values\")\n",
    "plt.yticks(np.arange(50,1000,50));"
   ]
  },
  {
   "cell_type": "code",
   "execution_count": 50,
   "metadata": {},
   "outputs": [],
   "source": [
    "from sklearn.metrics import mean_squared_error"
   ]
  },
  {
   "cell_type": "code",
   "execution_count": 53,
   "metadata": {},
   "outputs": [
    {
     "data": {
      "text/plain": [
       "8.864245421522394"
      ]
     },
     "execution_count": 53,
     "metadata": {},
     "output_type": "execute_result"
    }
   ],
   "source": [
    "mse = mean_squared_error(y_test,y_preds)\n",
    "rmse = math.sqrt(mse)\n",
    "rmse"
   ]
  },
  {
   "cell_type": "markdown",
   "metadata": {},
   "source": [
    "### RandomForest Regressor"
   ]
  },
  {
   "cell_type": "code",
   "execution_count": 27,
   "metadata": {},
   "outputs": [
    {
     "name": "stderr",
     "output_type": "stream",
     "text": [
      "C:\\Users\\Kartik\\Anaconda3\\lib\\site-packages\\sklearn\\ensemble\\forest.py:245: FutureWarning: The default value of n_estimators will change from 10 in version 0.20 to 100 in 0.22.\n",
      "  \"10 in version 0.20 to 100 in 0.22.\", FutureWarning)\n"
     ]
    },
    {
     "data": {
      "text/plain": [
       "RandomForestRegressor(bootstrap=True, criterion='mse', max_depth=None,\n",
       "                      max_features='auto', max_leaf_nodes=None,\n",
       "                      min_impurity_decrease=0.0, min_impurity_split=None,\n",
       "                      min_samples_leaf=1, min_samples_split=2,\n",
       "                      min_weight_fraction_leaf=0.0, n_estimators=10, n_jobs=-1,\n",
       "                      oob_score=False, random_state=42, verbose=0,\n",
       "                      warm_start=False)"
      ]
     },
     "execution_count": 27,
     "metadata": {},
     "output_type": "execute_result"
    }
   ],
   "source": [
    "from sklearn.ensemble import RandomForestRegressor\n",
    "\n",
    "rfr_model = RandomForestRegressor(n_jobs=-1,\n",
    "                                 random_state = 42)\n",
    "\n",
    "rfr_model.fit(x_Train,y_Train)"
   ]
  },
  {
   "cell_type": "code",
   "execution_count": 29,
   "metadata": {},
   "outputs": [
    {
     "data": {
      "text/plain": [
       "0.999556868708981"
      ]
     },
     "execution_count": 29,
     "metadata": {},
     "output_type": "execute_result"
    }
   ],
   "source": [
    "rfr_model.score(x_Train,y_Train)"
   ]
  },
  {
   "cell_type": "code",
   "execution_count": 56,
   "metadata": {},
   "outputs": [
    {
     "data": {
      "text/plain": [
       "0.9980870899011087"
      ]
     },
     "execution_count": 56,
     "metadata": {},
     "output_type": "execute_result"
    }
   ],
   "source": [
    "rfr_model_score = rfr_model.score(x_val,y_val)\n",
    "rfr_model_score"
   ]
  },
  {
   "cell_type": "code",
   "execution_count": 31,
   "metadata": {},
   "outputs": [],
   "source": [
    "y_preds_rfr = rfr_model.predict(x_test)"
   ]
  },
  {
   "cell_type": "code",
   "execution_count": 32,
   "metadata": {},
   "outputs": [
    {
     "data": {
      "text/plain": [
       "array([ 68.9076005,  46.1599997,  42.2872003,  37.674001 , 451.2019898,\n",
       "        56.0183995,  48.5952005, 426.220001 , 667.9839967, 414.3799959,\n",
       "        59.6644006, 448.9659882,  67.2428002,  62.9721992, 431.2410001,\n",
       "        68.8693999, 586.0470094,  45.4714009,  67.068598 , 280.5355899,\n",
       "       261.9169925,  59.0716003,  72.4680006,  43.7315997, 421.0460083,\n",
       "        47.8803995,  62.7286005,  70.2304007,  53.9118001,  40.1174013,\n",
       "       452.9039888,  60.8335998, 801.0300048,  90.2603998,  56.3144002,\n",
       "        65.9065987,  61.1146002,  70.0905989,  70.1429993,  63.1272004,\n",
       "       620.4440062,  60.2248005, 163.4646027,  54.3935997,  69.6829995,\n",
       "       105.6493981,  74.3004005,  41.1070008,  61.1944007,  82.1183974,\n",
       "        55.1679997,  69.9277993,  69.9383994, 145.3602003,  65.303601 ,\n",
       "        68.3188012,  75.6176001,  61.676401 , 607.4780152,  63.4402006,\n",
       "        58.8160004,  67.0265984,  58.7325997,  37.6736005,  39.3766007,\n",
       "       621.2260072, 843.8370058,  37.6996002,  54.4546002,  40.8891996,\n",
       "       100.426003 ,  36.4603996,  63.9653995, 847.1280151,  68.9674014,\n",
       "       842.732013 ,  45.9928002,  70.3843994,  59.3393993, 643.7559937,\n",
       "        62.9652004,  63.9185996,  59.9384006,  60.7169995, 161.625801 ,\n",
       "       849.0640136, 170.8719973,  67.0945999, 198.5074002, 659.3619933,\n",
       "        51.8887997, 410.8609984,  58.7010008, 476.8359895,  39.9156014,\n",
       "        55.7002   ,  63.7004   ,  42.4778001,  40.7748   ,  74.4599991,\n",
       "       376.5438019,  58.9394005, 155.7774003,  40.3004009,  61.3850017,\n",
       "        48.9051999, 300.8707977,  47.8937993, 586.333014 ,  68.1492024,\n",
       "        52.2452005,  58.8099998,  54.1826   , 810.4919859,  63.5511994,\n",
       "        50.9792003,  61.3751994, 597.8480161,  70.7766   , 103.6499975,\n",
       "        37.6772007, 296.7657929, 856.4630066,  50.7584002, 842.1080076,\n",
       "        66.1170002,  70.2049987,  62.8661995,  69.2587987, 771.7280028,\n",
       "       689.1220032,  61.0796   ,  49.6641985, 197.7567991, 283.8303955,\n",
       "        47.3551995,  74.137599 ,  55.8427995,  62.0610001,  48.6384   ,\n",
       "       199.6087966,  44.7234003, 674.4930053, 376.5438019,  60.0980003,\n",
       "       613.2909971, 719.0539978,  68.7032015, 298.2181976,  71.138601 ,\n",
       "        67.1230011,  39.9464006,  48.5016007,  55.8605993,  36.8041995,\n",
       "        49.5169989,  85.1380006,  63.0326001,  70.2669997, 729.7869936,\n",
       "        72.0223991,  43.9208003,  67.1934031,  63.0690005,  55.8907996,\n",
       "        53.3673991, 674.4119934,  68.5619993, 422.7720003,  66.1634003,\n",
       "       706.5289916,  44.1164005,  60.2337994,  51.6734003,  46.2927991,\n",
       "       178.1480027,  62.6756003,  73.107998 ,  63.2873998,  61.0227994,\n",
       "        66.862799 ,  70.3531996,  51.6911998,  60.8341996,  54.0352001,\n",
       "       567.8610107,  60.3558012,  44.9516004,  97.2392008,  75.1905998,\n",
       "        50.1473992,  51.3862005,  69.3140001,  58.5392004,  47.4919995,\n",
       "        43.0493996,  51.9236009, 147.8868025, 433.325006 ,  46.7045993,\n",
       "       815.546002 , 627.9849976,  73.1757987,  43.1856003,  63.6737996,\n",
       "        68.1512002,  50.9936007,  86.2550004,  40.8571993,  67.0080036,\n",
       "        72.5388007, 177.7983979,  51.5320004,  51.4207998,  67.4749994,\n",
       "        52.0286007,  62.3504   ,  69.5364   ,  45.7262001,  76.5055993,\n",
       "        66.8570007,  57.4115996,  49.8251992,  68.7682033, 200.1216018,\n",
       "        61.0100005, 670.2550047, 619.2859984, 303.4755951,  55.5279994,\n",
       "        37.1432008,  66.9093992,  43.6065994,  63.9687996, 203.0143971,\n",
       "       644.5579956, 378.0508027,  45.0787992,  64.1154004,  70.5167991,\n",
       "        71.6678011,  62.3319993, 160.3107987, 683.4359865,  72.5325981,\n",
       "        71.5372015,  39.7954012,  55.7102006,  53.7024004,  63.1771995,\n",
       "        68.1004008,  66.3444006])"
      ]
     },
     "execution_count": 32,
     "metadata": {},
     "output_type": "execute_result"
    }
   ],
   "source": [
    "y_preds_rfr"
   ]
  },
  {
   "cell_type": "code",
   "execution_count": 33,
   "metadata": {},
   "outputs": [
    {
     "data": {
      "text/plain": [
       "561      68.211998\n",
       "101      45.973999\n",
       "51       40.801998\n",
       "63       36.290001\n",
       "1073    486.640015\n",
       "           ...    \n",
       "156      55.584000\n",
       "549      52.000000\n",
       "398      64.269997\n",
       "243      69.417999\n",
       "834      67.905998\n",
       "Name: Close, Length: 252, dtype: float64"
      ]
     },
     "execution_count": 33,
     "metadata": {},
     "output_type": "execute_result"
    }
   ],
   "source": [
    "y_test"
   ]
  },
  {
   "cell_type": "code",
   "execution_count": 40,
   "metadata": {},
   "outputs": [
    {
     "data": {
      "image/png": "[encoded data removed]",
      "text/plain": [
       "<Figure size 720x720 with 1 Axes>"
      ]
     },
     "metadata": {
      "needs_background": "light"
     },
     "output_type": "display_data"
    }
   ],
   "source": [
    "plt.figure(figsize=(10,10))\n",
    "plt.scatter(y_test, y_preds_rfr, c = \"crimson\")\n",
    "plt.xlabel(\"True Values\")\n",
    "plt.ylabel(\"Predicted Values\")\n",
    "plt.xticks(np.arange(50,1000,50))\n",
    "plt.ylabel(\"Predicted Values\")\n",
    "plt.yticks(np.arange(50,1000,50));"
   ]
  },
  {
   "cell_type": "code",
   "execution_count": 54,
   "metadata": {},
   "outputs": [
    {
     "data": {
      "text/plain": [
       "8.864245421522394"
      ]
     },
     "execution_count": 54,
     "metadata": {},
     "output_type": "execute_result"
    }
   ],
   "source": [
    "mse_rfr = mean_squared_error(y_test,y_preds_rfr)\n",
    "rmse_rfr = math.sqrt(mse)\n",
    "rmse_rfr"
   ]
  },
  {
   "cell_type": "code",
   "execution_count": null,
   "metadata": {},
   "outputs": [],
   "source": []
  },
  {
   "cell_type": "code",
   "execution_count": null,
   "metadata": {},
   "outputs": [],
   "source": []
  }
 ],
 "metadata": {
  "kernelspec": {
   "display_name": "Python 3",
   "language": "python",
   "name": "python3"
  },
  "language_info": {
   "codemirror_mode": {
    "name": "ipython",
    "version": 3
   },
   "file_extension": ".py",
   "mimetype": "text/x-python",
   "name": "python",
   "nbconvert_exporter": "python",
   "pygments_lexer": "ipython3",
   "version": "3.7.4"
  }
 },
 "nbformat": 4,
 "nbformat_minor": 2
}
